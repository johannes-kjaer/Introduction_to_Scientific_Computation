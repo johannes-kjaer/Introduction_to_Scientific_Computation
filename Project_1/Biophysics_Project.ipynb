{
 "cells": [
  {
   "cell_type": "markdown",
   "metadata": {},
   "source": [
    "Importing libraries that will be useful in the project."
   ]
  },
  {
   "cell_type": "code",
   "execution_count": 2,
   "metadata": {},
   "outputs": [],
   "source": [
    "import numpy as np\n",
    "import matplotlib.pyplot as plt\n",
    "import random\n",
    "import scipy.constants as scicon\n",
    "from numba import jit"
   ]
  },
  {
   "cell_type": "code",
   "execution_count": 3,
   "metadata": {},
   "outputs": [],
   "source": [
    "# Defining constants useful in the calculations\n",
    "\n",
    "epsilon_r = 78                                      # Relative permittivity of the solution\n",
    "a = (23e-6)**2 # micrometers to meters              # Distance between the grid points (As per the redefined distance given \n",
    "                                                    # the update on the 'Mattelab' page)\n",
    "alpha = scicon.elementary_charge**2/(4*scicon.pi*scicon.epsilon_0*epsilon_r*a)  # Calculating alpha, which\n",
    "                                                                                # will be defined later"
   ]
  },
  {
   "cell_type": "markdown",
   "metadata": {},
   "source": [
    "In the first exercise (1a) we will implement a function to generate a grid of size $N\\times N$ with $2M$ randomly placed monomers, one of a negative sign for each one of a positive sign. The function assumes $N^2 \\geq 2M$, as $N^2$ is the number of grid locations, and therefore the maximum number of monomers that can be placed in the grid. As this assumption is reasonable - we do want the monomers to have room for moving around - the function have no exception handling for this."
   ]
  },
  {
   "cell_type": "code",
   "execution_count": 4,
   "metadata": {},
   "outputs": [],
   "source": [
    "@jit(nopython=True)\n",
    "def generate_grid_of_monomers(N, M):    # Declaring the function for generating a grid of size N, \n",
    "                                        # with M positive and M negative monomers randomly placed on the grid\n",
    "    \n",
    "    grid = np.zeros((N,N))              # Generating a grid of zeroes, in which the monomers can be placed\n",
    "    \n",
    "    w_i = [1,-1]                        # A list of the possible signs of the charge\n",
    "    \n",
    "    for m in range(0,2*M):              # Iterating over the monomers that are to be placed, \n",
    "                                        # both the positively and negatively charged ones\n",
    "\n",
    "        pos = 1                         # Initializing the variable pos, which is meant to take in the value of a point\n",
    "                                        # in the grid so the code can check whether the point is a monomer or solution\n",
    "                                        \n",
    "        while pos != 0:                 # Ensures the code runs until there is selected an empty position at random\n",
    "            a = random.randint(0,N-1)   # Selects a random x coordinate in the N times N grid\n",
    "            b = random.randint(0,N-1)   # Selects a random y coordinate in the N times N grid\n",
    "            pos = grid[b][a]            # Saves the value of the random grid point to pos\n",
    "            if pos == 0:                # Checks whether the grid point is occupied by a monomer\n",
    "                \n",
    "                grid[b][a] = w_i[m//(M+1)] * ((m % M)+1)    # Saves the sign of the charge to the grid point, as well as \n",
    "                                                            # a unique number from 1 to M (There are 2 points with the same\n",
    "                                                            # absolute value, but with differing signs). The charge sign is\n",
    "                                                            # determined by whether the monomer is among the \n",
    "                                                            # first M monomers (m < M => m//M = 0) or among \n",
    "                                                            # the second set of M monomers (2M > m > M => m//M = 1)\n",
    "    return grid\n"
   ]
  },
  {
   "cell_type": "code",
   "execution_count": 5,
   "metadata": {},
   "outputs": [],
   "source": [
    "# Test code for the generate_grid_of_monomers function\n",
    "GRID = generate_grid_of_monomers(5,5)"
   ]
  },
  {
   "cell_type": "markdown",
   "metadata": {},
   "source": [
    "Code to visualize the formed grid, as per problem 1b):"
   ]
  },
  {
   "cell_type": "code",
   "execution_count": 38,
   "metadata": {},
   "outputs": [],
   "source": [
    "\n",
    "def visualize_grid(grid):                   # Declearing a function to take a grid as a input, and then visualize the grid\n",
    "    plt.figure(1,figsize=(8,8))\n",
    "    plt.pcolormesh(grid[::-1],cmap=\"bwr\")   # Visualizes the grid by pcolormesh, but rotates the grid to make the visualization line up with the grid. The colors ranges from red (positive values) to blue (negative values), and white represents values of zero.\n",
    "    plt.show()\n"
   ]
  },
  {
   "cell_type": "code",
   "execution_count": 39,
   "metadata": {},
   "outputs": [
    {
     "data": {
      "image/png": "[encoded data removed]",
      "text/plain": [
       "<Figure size 576x576 with 1 Axes>"
      ]
     },
     "metadata": {
      "needs_background": "light"
     },
     "output_type": "display_data"
    }
   ],
   "source": [
    "visualize_grid(GRID)  # Testing the code, by passing a N times N grid (5*5 in this instance) generated from the function generate_grid_of_monomers"
   ]
  },
  {
   "cell_type": "markdown",
   "metadata": {},
   "source": [
    "Function to get coordinates of nearest neighboors, as per problem 1c):"
   ]
  },
  {
   "cell_type": "code",
   "execution_count": 8,
   "metadata": {},
   "outputs": [],
   "source": [
    "@jit(nopython=True)\n",
    "def get_neighbours_coordinates(N,coord):    # Takes in the size of a grid, and the coordinates of the point \n",
    "                                            # you want to find the neighbours of\n",
    "    N_indices = np.append(np.append(np.array([N-1]), np.arange(0,N,1)), np.array([0]))  # Creates an array of the \n",
    "                                                                                        # form [N,0,1,...,N-2,N-1,0]\n",
    "\n",
    "    i = coord[0] + 1 # Shifts the index to match the integer in the N_indices, as will be useful to get nearest neighboor\n",
    "    j = coord[1] + 1 # Shifts the index to match the integer in the N_indices, as will be useful to get nearest neighboor\n",
    "\n",
    "    return np.array([[N_indices[i-1],N_indices[j]],     # Gets indices of the nearest neighboors,\n",
    "                     [N_indices[i+1],N_indices[j]],     # and returns them as arrays in an array\n",
    "                     [N_indices[i],N_indices[j-1]],\n",
    "                     [N_indices[i],N_indices[j+1]]])\n",
    "\n"
   ]
  },
  {
   "cell_type": "code",
   "execution_count": 9,
   "metadata": {},
   "outputs": [
    {
     "data": {
      "text/plain": [
       "array([[4, 1],\n",
       "       [1, 1],\n",
       "       [0, 0],\n",
       "       [0, 2]])"
      ]
     },
     "execution_count": 9,
     "metadata": {},
     "output_type": "execute_result"
    }
   ],
   "source": [
    "# Testcode for the function\n",
    "get_neighbours_coordinates(5,np.array([0,1]))"
   ]
  },
  {
   "cell_type": "markdown",
   "metadata": {},
   "source": [
    "Following is the function used to calculate the energy of a given system, as required by problem 1d), by the use of the provided equation 4:\n",
    "$$\n",
    "E = V_{kl} = \\{ \\begin{array}{ll}\n",
    "w_{k}w_{l}\\alpha & r_k, r_l \\in NN \\\\\n",
    "0 & r_k, r_l \\notin NN \\\\\n",
    "\\end{array}\n",
    "$$\n",
    "\n",
    "where \n",
    "\n",
    "$$\n",
    "\\alpha = \\frac{e^2}{4\\pi \\varepsilon_0 \\varepsilon_r a}\n",
    "$$\n",
    "\n",
    "Then all that's left to do is sum up the energy for all the monomers - while making sure no energy is doubly counted. Each energy calculated from the equation, is necessarily from the interaction of exactly two monomers. We want to count the energy of all the monomer interactions, that is, the interaction of the same two $r_k$ and $r_l$ should never be calculated more than once. If we however calculate all the interaction energies of one $r_l$ interacting with $r_k$, their interaction enegy is going to be calculated again when all the interaction energies of $r_k$ are calculated. This interaction energy is therefore counted exactly twice, and each doubly counted interaction energy, as well as the total energy, can be corrected by dividing by the integer 2 (The number of times each interaction energy is counted.)"
   ]
  },
  {
   "cell_type": "code",
   "execution_count": 10,
   "metadata": {},
   "outputs": [],
   "source": [
    "@jit(nopython=True)\n",
    "def get_sign(grid,monomer):                 # Gets the sign of the monomer in question\n",
    "\n",
    "    if grid[monomer[0]][monomer[1]] == 0:   # If the coordinates point to solution instead \n",
    "        return 0                            # of a monomer, return a charge of zero\n",
    "    else:\n",
    "        return grid[monomer[0]][monomer[1]]/np.abs(grid[monomer[0]][monomer[1]]) # Takes in the monomers number and divides\n",
    "                                                        # by the absolute, so as to preserve the sign while normalizing to one\n",
    "\n",
    "\n",
    "@jit(nopython=True)\n",
    "def calculate_energy(grid):\n",
    "    monomers = np.argwhere(grid!=0)                         # Get all the monomer positions.\n",
    "    total_energy = 0                                        # Variable to store the energy of all the monomers.\n",
    "\n",
    "    for monomer in monomers:                                # We want to calculate energies for each and  \n",
    "                                                            # every monomer, so we iterate over them.\n",
    "\n",
    "        NN = get_neighbours_coordinates(len(grid),monomer)  # The monomers energies depend on its \n",
    "                                                            # neighbours, so we find their possible positions.\n",
    "\n",
    "        if len(NN)>0:                                       # If the monomer have no neighbours it does not provide \n",
    "                                                            # any energy to the calculations, so we can ignore monomers\n",
    "                                                            # with no neigbours.\n",
    "\n",
    "            monomer_sign = get_sign(grid,monomer)           # As the number each monomer is assigned is just for \n",
    "                                                            # identification, we need to find the sign of the monomer.\n",
    "\n",
    "            monomer_energy = 0                              # Variable to store the energy of all interactions \n",
    "                                                            # of each individual monomer\n",
    "            for neighbour in NN:\n",
    "                neighbour_sign = get_sign(grid,neighbour)\n",
    "                interaction_energy = monomer_sign*neighbour_sign    # As per the provided equation 4, divided by alpha\n",
    "                monomer_energy += interaction_energy        # Stores the interaction energies to the monomer in question\n",
    "            total_energy += monomer_energy                  # Stores the monomer energies to the total energy\n",
    "\n",
    "    return total_energy*alpha/2                             # Scales the energy by alpha, and divides by two to account\n",
    "                                                            # for the double counting. This value is then returned"
   ]
  },
  {
   "cell_type": "markdown",
   "metadata": {},
   "source": [
    "Here we are implementing the Monte Carlo algorithm described in Algorithm 2 (What this algorithm does should be further explained)"
   ]
  },
  {
   "cell_type": "code",
   "execution_count": 40,
   "metadata": {},
   "outputs": [
    {
     "data": {
      "image/png": "[encoded data removed]",
      "text/plain": [
       "<Figure size 1080x576 with 1 Axes>"
      ]
     },
     "metadata": {
      "needs_background": "light"
     },
     "output_type": "display_data"
    },
    {
     "data": {
      "image/png": "[encoded data removed]",
      "text/plain": [
       "<Figure size 576x576 with 1 Axes>"
      ]
     },
     "metadata": {
      "needs_background": "light"
     },
     "output_type": "display_data"
    }
   ],
   "source": [
    "@jit(nopython=True)\n",
    "def MonteCarlo2(N_s,T,grid):\n",
    "    energies = np.zeros(N_s)                                 # Makes an array of length N_s to save the energies to.\n",
    "\n",
    "    E_0 = calculate_energy(grid)\n",
    "    energies[0] = E_0                                       # Saves the initial energy of the grid to the array.\n",
    "    \n",
    "    for i in range(1,N_s):\n",
    "        \n",
    "        E = calculate_energy(grid)                          # Calculates the energy of the grid in its current configuration.\n",
    "\n",
    "        monomers = np.argwhere(grid!=0)                         # Fetches all of the monomers on the grid.\n",
    "        monomer = monomers[random.randint(0,len(monomers)-1)]   # Fetches a random monomer which is to be moved.\n",
    "\n",
    "        random_direction = random.randint(0,3)\n",
    "        NNs = get_neighbours_coordinates(len(grid),monomer)\n",
    "        desired_move = NNs[random_direction]                # Selects the random move out of the four possible directions.\n",
    "        \n",
    "        if grid[desired_move[0]][desired_move[1]] == 0:\n",
    "            \n",
    "            new_grid = grid.copy()\n",
    "            new_grid[desired_move[0]][desired_move[1]] = new_grid[monomer[0]][monomer[1]]   # Copies the monomer over \n",
    "                                                                                            # to it's new placement.\n",
    "            new_grid[monomer[0]][monomer[1]] = 0            # Removes the monomer from it's previous placement.\n",
    "            \n",
    "            E_new = calculate_energy(new_grid)\n",
    "            d_E = E_new-E                                   # Calculate the change in energy by moving the random monomer.\n",
    "            \n",
    "            p = random.random()\n",
    "            arnulf_bjorn_kristoffsen = np.exp(-d_E/(scicon.Boltzmann*T))        # Don't ask friends for variable names.\n",
    "            \n",
    "            \n",
    "            if d_E < 0:\n",
    "                grid = new_grid.copy() \n",
    "                E = E_new\n",
    "            elif p < arnulf_bjorn_kristoffsen:\n",
    "                grid = new_grid.copy()\n",
    "                E = E_new\n",
    "            \n",
    "        energies[i] = E\n",
    "    return energies, grid \n",
    "\n",
    "def simulate(N_s,N,M,T):\n",
    "\n",
    "    e,g = MonteCarlo2(N_s,T,generate_grid_of_monomers(N,M))\n",
    "    plt.figure(1,figsize=(15,8))\n",
    "    plt.plot(np.linspace(0,N_s,N_s),e/alpha)\n",
    "    plt.show()\n",
    "\n",
    "    \n",
    "    visualize_grid(g)\n",
    "simulate(5000,15,25,200)"
   ]
  },
  {
   "cell_type": "code",
   "execution_count": null,
   "metadata": {},
   "outputs": [],
   "source": []
  }
 ],
 "metadata": {
  "interpreter": {
   "hash": "d2152fd7f0bbc62aa1baff8c990435d1e2c7175d001561303988032604c11a48"
  },
  "kernelspec": {
   "display_name": "Python 3.10.1 64-bit",
   "language": "python",
   "name": "python3"
  },
  "language_info": {
   "codemirror_mode": {
    "name": "ipython",
    "version": 3
   },
   "file_extension": ".py",
   "mimetype": "text/x-python",
   "name": "python",
   "nbconvert_exporter": "python",
   "pygments_lexer": "ipython3",
   "version": "3.10.2"
  },
  "orig_nbformat": 4
 },
 "nbformat": 4,
 "nbformat_minor": 2
}
